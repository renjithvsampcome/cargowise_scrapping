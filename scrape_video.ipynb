{
 "cells": [
  {
   "cell_type": "code",
   "execution_count": 1,
   "metadata": {},
   "outputs": [],
   "source": [
    "from playwright.async_api import async_playwright, Page"
   ]
  },
  {
   "cell_type": "code",
   "execution_count": 2,
   "metadata": {},
   "outputs": [
    {
     "data": {
      "text/plain": [
       "<Response url='https://wisetechacademy.com/log-in' request=<Request url='https://wisetechacademy.com/log-in' method='GET'>>"
      ]
     },
     "execution_count": 2,
     "metadata": {},
     "output_type": "execute_result"
    }
   ],
   "source": [
    "playwright = await async_playwright().start()\n",
    "download_path = \"downloads\"\n",
    "browser = await playwright.chromium.launch(headless=False,args=[\n",
    "        '--disable-pdf-viewer',\n",
    "        '--plugins.always_open_pdf_externally=true',\n",
    "        f'--default-download-directory={download_path}'\n",
    "    ] )\n",
    "context = await browser.new_context(accept_downloads=True)        \n",
    "page = await context.new_page()\n",
    "await page.goto(\"https://wisetechacademy.com/log-in\")"
   ]
  },
  {
   "cell_type": "code",
   "execution_count": 3,
   "metadata": {},
   "outputs": [],
   "source": [
    "import logging\n",
    "\n",
    "# Configure logging\n",
    "logging.basicConfig(\n",
    "    level=logging.ERROR,  # Set to DEBUG for more detailed logs\n",
    "    format='%(asctime)s - %(name)s - %(levelname)s - %(message)s',\n",
    "    handlers=[\n",
    "        logging.FileHandler(\"chatgpt_logs.log\"),  # Log to a file\n",
    "        logging.StreamHandler()  # Log to the console\n",
    "    ]\n",
    ")\n",
    "logger = logging.getLogger(\"ChatGPTLogger\")"
   ]
  },
  {
   "cell_type": "code",
   "execution_count": 4,
   "metadata": {},
   "outputs": [
    {
     "name": "stdout",
     "output_type": "stream",
     "text": [
      "Processing Page: 8\n",
      "Page 8 content extracted\n",
      "[<JSHandle preview=JSHandle@<a data-v-55f30f84=\"\" data-bs-toggle=\"tooltip\" class=\"search-result-title card-heading-color-visited smaller\" title=\"What do the visual board buttons and indicators in the top-right pane mean? \">What do the visual board buttons and indicators i…</a>>, <JSHandle preview=JSHandle@node>, <JSHandle preview=JSHandle@node>, <JSHandle preview=JSHandle@node>, <JSHandle preview=JSHandle@node>, <JSHandle preview=JSHandle@node>, <JSHandle preview=JSHandle@node>, <JSHandle preview=JSHandle@node>, <JSHandle preview=JSHandle@node>, <JSHandle preview=JSHandle@node>, <JSHandle preview=JSHandle@node>, <JSHandle preview=JSHandle@node>, <JSHandle preview=JSHandle@node>, <JSHandle preview=JSHandle@node>, <JSHandle preview=JSHandle@node>, <JSHandle preview=JSHandle@node>, <JSHandle preview=JSHandle@node>, <JSHandle preview=JSHandle@node>, <JSHandle preview=JSHandle@node>, <JSHandle preview=JSHandle@node>]\n",
      "Processing Page: 9\n",
      "Page 9 content extracted\n",
      "[<JSHandle preview=JSHandle@<a data-v-55f30f84=\"\" data-bs-toggle=\"tooltip\" title=\"Understanding the Facilities Reference File\" class=\"search-result-title card-heading-color-visited smaller\">Understanding the Facilities Reference File</a>>, <JSHandle preview=JSHandle@node>, <JSHandle preview=JSHandle@node>, <JSHandle preview=JSHandle@node>, <JSHandle preview=JSHandle@node>, <JSHandle preview=JSHandle@node>, <JSHandle preview=JSHandle@node>, <JSHandle preview=JSHandle@node>, <JSHandle preview=JSHandle@node>, <JSHandle preview=JSHandle@node>, <JSHandle preview=JSHandle@node>, <JSHandle preview=JSHandle@node>, <JSHandle preview=JSHandle@node>, <JSHandle preview=JSHandle@node>, <JSHandle preview=JSHandle@node>, <JSHandle preview=JSHandle@node>, <JSHandle preview=JSHandle@node>, <JSHandle preview=JSHandle@node>, <JSHandle preview=JSHandle@node>, <JSHandle preview=JSHandle@node>]\n"
     ]
    },
    {
     "ename": "CancelledError",
     "evalue": "",
     "output_type": "error",
     "traceback": [
      "\u001b[1;31m---------------------------------------------------------------------------\u001b[0m",
      "\u001b[1;31mCancelledError\u001b[0m                            Traceback (most recent call last)",
      "Cell \u001b[1;32mIn[4], line 50\u001b[0m\n\u001b[0;32m     43\u001b[0m header \u001b[38;5;241m=\u001b[39m \u001b[38;5;28;01mawait\u001b[39;00m page\u001b[38;5;241m.\u001b[39mlocator(\u001b[38;5;124m'\u001b[39m\u001b[38;5;124mh2.modal-title span\u001b[39m\u001b[38;5;124m'\u001b[39m)\u001b[38;5;241m.\u001b[39mtext_content()\n\u001b[0;32m     44\u001b[0m \u001b[38;5;66;03m# await page.wait_for_selector('h3[data-exp-question]')\u001b[39;00m\n\u001b[0;32m     45\u001b[0m                             \n\u001b[0;32m     46\u001b[0m \u001b[38;5;66;03m# await page.locator('h3[data-exp-question]').click()\u001b[39;00m\n\u001b[0;32m     47\u001b[0m \u001b[38;5;66;03m# await page.wait_for_selector('div[data-exp-answer]')\u001b[39;00m\n\u001b[1;32m---> 50\u001b[0m text \u001b[38;5;241m=\u001b[39m \u001b[38;5;28;01mawait\u001b[39;00m page\u001b[38;5;241m.\u001b[39mlocator(\u001b[38;5;124m'\u001b[39m\u001b[38;5;124mdiv[data-exp-answer]\u001b[39m\u001b[38;5;124m'\u001b[39m)\u001b[38;5;241m.\u001b[39mtext_content()\n\u001b[0;32m     51\u001b[0m close_button \u001b[38;5;241m=\u001b[39m \u001b[38;5;28;01mawait\u001b[39;00m page\u001b[38;5;241m.\u001b[39mquery_selector(\u001b[38;5;124m'\u001b[39m\u001b[38;5;124mbutton.btn-close[data-bs-dismiss=\u001b[39m\u001b[38;5;124m\"\u001b[39m\u001b[38;5;124mmodal\u001b[39m\u001b[38;5;124m\"\u001b[39m\u001b[38;5;124m]\u001b[39m\u001b[38;5;124m'\u001b[39m)\n\u001b[0;32m     52\u001b[0m \u001b[38;5;28;01mawait\u001b[39;00m close_button\u001b[38;5;241m.\u001b[39mclick()\n",
      "File \u001b[1;32mc:\\Users\\vsren\\Desktop\\Ampcome\\scrapping\\DHL\\.venv\\Lib\\site-packages\\playwright\\async_api\\_generated.py:17503\u001b[0m, in \u001b[0;36mLocator.text_content\u001b[1;34m(self, timeout)\u001b[0m\n\u001b[0;32m  17481\u001b[0m \u001b[38;5;28;01masync\u001b[39;00m \u001b[38;5;28;01mdef\u001b[39;00m \u001b[38;5;21mtext_content\u001b[39m(\n\u001b[0;32m  17482\u001b[0m     \u001b[38;5;28mself\u001b[39m, \u001b[38;5;241m*\u001b[39m, timeout: typing\u001b[38;5;241m.\u001b[39mOptional[\u001b[38;5;28mfloat\u001b[39m] \u001b[38;5;241m=\u001b[39m \u001b[38;5;28;01mNone\u001b[39;00m\n\u001b[0;32m  17483\u001b[0m ) \u001b[38;5;241m-\u001b[39m\u001b[38;5;241m>\u001b[39m typing\u001b[38;5;241m.\u001b[39mOptional[\u001b[38;5;28mstr\u001b[39m]:\n\u001b[0;32m  17484\u001b[0m \u001b[38;5;250m    \u001b[39m\u001b[38;5;124;03m\"\"\"Locator.text_content\u001b[39;00m\n\u001b[0;32m  17485\u001b[0m \n\u001b[0;32m  17486\u001b[0m \u001b[38;5;124;03m    Returns the [`node.textContent`](https://developer.mozilla.org/en-US/docs/Web/API/Node/textContent).\u001b[39;00m\n\u001b[1;32m   (...)\u001b[0m\n\u001b[0;32m  17499\u001b[0m \u001b[38;5;124;03m    Union[str, None]\u001b[39;00m\n\u001b[0;32m  17500\u001b[0m \u001b[38;5;124;03m    \"\"\"\u001b[39;00m\n\u001b[0;32m  17502\u001b[0m     \u001b[38;5;28;01mreturn\u001b[39;00m mapping\u001b[38;5;241m.\u001b[39mfrom_maybe_impl(\n\u001b[1;32m> 17503\u001b[0m         \u001b[38;5;28;01mawait\u001b[39;00m \u001b[38;5;28mself\u001b[39m\u001b[38;5;241m.\u001b[39m_impl_obj\u001b[38;5;241m.\u001b[39mtext_content(timeout\u001b[38;5;241m=\u001b[39mtimeout)\n\u001b[0;32m  17504\u001b[0m     )\n",
      "File \u001b[1;32mc:\\Users\\vsren\\Desktop\\Ampcome\\scrapping\\DHL\\.venv\\Lib\\site-packages\\playwright\\_impl\\_locator.py:616\u001b[0m, in \u001b[0;36mLocator.text_content\u001b[1;34m(self, timeout)\u001b[0m\n\u001b[0;32m    614\u001b[0m \u001b[38;5;28;01masync\u001b[39;00m \u001b[38;5;28;01mdef\u001b[39;00m \u001b[38;5;21mtext_content\u001b[39m(\u001b[38;5;28mself\u001b[39m, timeout: \u001b[38;5;28mfloat\u001b[39m \u001b[38;5;241m=\u001b[39m \u001b[38;5;28;01mNone\u001b[39;00m) \u001b[38;5;241m-\u001b[39m\u001b[38;5;241m>\u001b[39m Optional[\u001b[38;5;28mstr\u001b[39m]:\n\u001b[0;32m    615\u001b[0m     params \u001b[38;5;241m=\u001b[39m locals_to_params(\u001b[38;5;28mlocals\u001b[39m())\n\u001b[1;32m--> 616\u001b[0m     \u001b[38;5;28;01mreturn\u001b[39;00m \u001b[38;5;28;01mawait\u001b[39;00m \u001b[38;5;28mself\u001b[39m\u001b[38;5;241m.\u001b[39m_frame\u001b[38;5;241m.\u001b[39mtext_content(\n\u001b[0;32m    617\u001b[0m         \u001b[38;5;28mself\u001b[39m\u001b[38;5;241m.\u001b[39m_selector,\n\u001b[0;32m    618\u001b[0m         strict\u001b[38;5;241m=\u001b[39m\u001b[38;5;28;01mTrue\u001b[39;00m,\n\u001b[0;32m    619\u001b[0m         \u001b[38;5;241m*\u001b[39m\u001b[38;5;241m*\u001b[39mparams,\n\u001b[0;32m    620\u001b[0m     )\n",
      "File \u001b[1;32mc:\\Users\\vsren\\Desktop\\Ampcome\\scrapping\\DHL\\.venv\\Lib\\site-packages\\playwright\\_impl\\_frame.py:613\u001b[0m, in \u001b[0;36mFrame.text_content\u001b[1;34m(self, selector, strict, timeout)\u001b[0m\n\u001b[0;32m    610\u001b[0m \u001b[38;5;28;01masync\u001b[39;00m \u001b[38;5;28;01mdef\u001b[39;00m \u001b[38;5;21mtext_content\u001b[39m(\n\u001b[0;32m    611\u001b[0m     \u001b[38;5;28mself\u001b[39m, selector: \u001b[38;5;28mstr\u001b[39m, strict: \u001b[38;5;28mbool\u001b[39m \u001b[38;5;241m=\u001b[39m \u001b[38;5;28;01mNone\u001b[39;00m, timeout: \u001b[38;5;28mfloat\u001b[39m \u001b[38;5;241m=\u001b[39m \u001b[38;5;28;01mNone\u001b[39;00m\n\u001b[0;32m    612\u001b[0m ) \u001b[38;5;241m-\u001b[39m\u001b[38;5;241m>\u001b[39m Optional[\u001b[38;5;28mstr\u001b[39m]:\n\u001b[1;32m--> 613\u001b[0m     \u001b[38;5;28;01mreturn\u001b[39;00m \u001b[38;5;28;01mawait\u001b[39;00m \u001b[38;5;28mself\u001b[39m\u001b[38;5;241m.\u001b[39m_channel\u001b[38;5;241m.\u001b[39msend(\u001b[38;5;124m\"\u001b[39m\u001b[38;5;124mtextContent\u001b[39m\u001b[38;5;124m\"\u001b[39m, locals_to_params(\u001b[38;5;28mlocals\u001b[39m()))\n",
      "File \u001b[1;32mc:\\Users\\vsren\\Desktop\\Ampcome\\scrapping\\DHL\\.venv\\Lib\\site-packages\\playwright\\_impl\\_connection.py:61\u001b[0m, in \u001b[0;36mChannel.send\u001b[1;34m(self, method, params)\u001b[0m\n\u001b[0;32m     60\u001b[0m \u001b[38;5;28;01masync\u001b[39;00m \u001b[38;5;28;01mdef\u001b[39;00m \u001b[38;5;21msend\u001b[39m(\u001b[38;5;28mself\u001b[39m, method: \u001b[38;5;28mstr\u001b[39m, params: Dict \u001b[38;5;241m=\u001b[39m \u001b[38;5;28;01mNone\u001b[39;00m) \u001b[38;5;241m-\u001b[39m\u001b[38;5;241m>\u001b[39m Any:\n\u001b[1;32m---> 61\u001b[0m     \u001b[38;5;28;01mreturn\u001b[39;00m \u001b[38;5;28;01mawait\u001b[39;00m \u001b[38;5;28mself\u001b[39m\u001b[38;5;241m.\u001b[39m_connection\u001b[38;5;241m.\u001b[39mwrap_api_call(\n\u001b[0;32m     62\u001b[0m         \u001b[38;5;28;01mlambda\u001b[39;00m: \u001b[38;5;28mself\u001b[39m\u001b[38;5;241m.\u001b[39m_inner_send(method, params, \u001b[38;5;28;01mFalse\u001b[39;00m),\n\u001b[0;32m     63\u001b[0m         \u001b[38;5;28mself\u001b[39m\u001b[38;5;241m.\u001b[39m_is_internal_type,\n\u001b[0;32m     64\u001b[0m     )\n",
      "File \u001b[1;32mc:\\Users\\vsren\\Desktop\\Ampcome\\scrapping\\DHL\\.venv\\Lib\\site-packages\\playwright\\_impl\\_connection.py:526\u001b[0m, in \u001b[0;36mConnection.wrap_api_call\u001b[1;34m(self, cb, is_internal)\u001b[0m\n\u001b[0;32m    524\u001b[0m \u001b[38;5;28mself\u001b[39m\u001b[38;5;241m.\u001b[39m_api_zone\u001b[38;5;241m.\u001b[39mset(parsed_st)\n\u001b[0;32m    525\u001b[0m \u001b[38;5;28;01mtry\u001b[39;00m:\n\u001b[1;32m--> 526\u001b[0m     \u001b[38;5;28;01mreturn\u001b[39;00m \u001b[38;5;28;01mawait\u001b[39;00m cb()\n\u001b[0;32m    527\u001b[0m \u001b[38;5;28;01mexcept\u001b[39;00m \u001b[38;5;167;01mException\u001b[39;00m \u001b[38;5;28;01mas\u001b[39;00m error:\n\u001b[0;32m    528\u001b[0m     \u001b[38;5;28;01mraise\u001b[39;00m rewrite_error(error, \u001b[38;5;124mf\u001b[39m\u001b[38;5;124m\"\u001b[39m\u001b[38;5;132;01m{\u001b[39;00mparsed_st[\u001b[38;5;124m'\u001b[39m\u001b[38;5;124mapiName\u001b[39m\u001b[38;5;124m'\u001b[39m]\u001b[38;5;132;01m}\u001b[39;00m\u001b[38;5;124m: \u001b[39m\u001b[38;5;132;01m{\u001b[39;00merror\u001b[38;5;132;01m}\u001b[39;00m\u001b[38;5;124m\"\u001b[39m) \u001b[38;5;28;01mfrom\u001b[39;00m \u001b[38;5;28;01mNone\u001b[39;00m\n",
      "File \u001b[1;32mc:\\Users\\vsren\\Desktop\\Ampcome\\scrapping\\DHL\\.venv\\Lib\\site-packages\\playwright\\_impl\\_connection.py:92\u001b[0m, in \u001b[0;36mChannel._inner_send\u001b[1;34m(self, method, params, return_as_dict)\u001b[0m\n\u001b[0;32m     88\u001b[0m     \u001b[38;5;28;01mraise\u001b[39;00m error\n\u001b[0;32m     89\u001b[0m callback \u001b[38;5;241m=\u001b[39m \u001b[38;5;28mself\u001b[39m\u001b[38;5;241m.\u001b[39m_connection\u001b[38;5;241m.\u001b[39m_send_message_to_server(\n\u001b[0;32m     90\u001b[0m     \u001b[38;5;28mself\u001b[39m\u001b[38;5;241m.\u001b[39m_object, method, _filter_none(params)\n\u001b[0;32m     91\u001b[0m )\n\u001b[1;32m---> 92\u001b[0m done, _ \u001b[38;5;241m=\u001b[39m \u001b[38;5;28;01mawait\u001b[39;00m asyncio\u001b[38;5;241m.\u001b[39mwait(\n\u001b[0;32m     93\u001b[0m     {\n\u001b[0;32m     94\u001b[0m         \u001b[38;5;28mself\u001b[39m\u001b[38;5;241m.\u001b[39m_connection\u001b[38;5;241m.\u001b[39m_transport\u001b[38;5;241m.\u001b[39mon_error_future,\n\u001b[0;32m     95\u001b[0m         callback\u001b[38;5;241m.\u001b[39mfuture,\n\u001b[0;32m     96\u001b[0m     },\n\u001b[0;32m     97\u001b[0m     return_when\u001b[38;5;241m=\u001b[39masyncio\u001b[38;5;241m.\u001b[39mFIRST_COMPLETED,\n\u001b[0;32m     98\u001b[0m )\n\u001b[0;32m     99\u001b[0m \u001b[38;5;28;01mif\u001b[39;00m \u001b[38;5;129;01mnot\u001b[39;00m callback\u001b[38;5;241m.\u001b[39mfuture\u001b[38;5;241m.\u001b[39mdone():\n\u001b[0;32m    100\u001b[0m     callback\u001b[38;5;241m.\u001b[39mfuture\u001b[38;5;241m.\u001b[39mcancel()\n",
      "File \u001b[1;32m~\\AppData\\Local\\Programs\\Python\\Python312\\Lib\\asyncio\\tasks.py:464\u001b[0m, in \u001b[0;36mwait\u001b[1;34m(fs, timeout, return_when)\u001b[0m\n\u001b[0;32m    461\u001b[0m     \u001b[38;5;28;01mraise\u001b[39;00m \u001b[38;5;167;01mTypeError\u001b[39;00m(\u001b[38;5;124m\"\u001b[39m\u001b[38;5;124mPassing coroutines is forbidden, use tasks explicitly.\u001b[39m\u001b[38;5;124m\"\u001b[39m)\n\u001b[0;32m    463\u001b[0m loop \u001b[38;5;241m=\u001b[39m events\u001b[38;5;241m.\u001b[39mget_running_loop()\n\u001b[1;32m--> 464\u001b[0m \u001b[38;5;28;01mreturn\u001b[39;00m \u001b[38;5;28;01mawait\u001b[39;00m _wait(fs, timeout, return_when, loop)\n",
      "File \u001b[1;32m~\\AppData\\Local\\Programs\\Python\\Python312\\Lib\\asyncio\\tasks.py:550\u001b[0m, in \u001b[0;36m_wait\u001b[1;34m(fs, timeout, return_when, loop)\u001b[0m\n\u001b[0;32m    547\u001b[0m     f\u001b[38;5;241m.\u001b[39madd_done_callback(_on_completion)\n\u001b[0;32m    549\u001b[0m \u001b[38;5;28;01mtry\u001b[39;00m:\n\u001b[1;32m--> 550\u001b[0m     \u001b[38;5;28;01mawait\u001b[39;00m waiter\n\u001b[0;32m    551\u001b[0m \u001b[38;5;28;01mfinally\u001b[39;00m:\n\u001b[0;32m    552\u001b[0m     \u001b[38;5;28;01mif\u001b[39;00m timeout_handle \u001b[38;5;129;01mis\u001b[39;00m \u001b[38;5;129;01mnot\u001b[39;00m \u001b[38;5;28;01mNone\u001b[39;00m:\n",
      "\u001b[1;31mCancelledError\u001b[0m: "
     ]
    }
   ],
   "source": [
    "import time\n",
    "import csv\n",
    "page.set_default_timeout(5000)\n",
    "# Loop through each link and click it one by one\n",
    "with open('output.csv', mode='a', newline='', encoding='utf-8') as file:\n",
    "    writer = csv.writer(file)\n",
    "    # writer.writerow(['no', 'header','text']) \n",
    "    count = 1277\n",
    "    \n",
    "    while True:\n",
    "        # Wait for the pagination container to be visible\n",
    "        await page.wait_for_selector('div.search-pagination')\n",
    "\n",
    "        # Extract current page number and print it\n",
    "    \n",
    "        current_page = await page.locator('a.search-pagination-page.current-page').inner_text()\n",
    "        print(f\"Processing Page: {current_page}\")\n",
    "\n",
    "        # Perform your data scraping or processing logic here\n",
    "        # Example: Extract text or data from the current page\n",
    "        page_content = await page.content()  # Modify this line as needed to extract data\n",
    "        print(f\"Page {current_page} content extracted\")\n",
    "\n",
    "        # Check if the next button is enabled\n",
    "        await page.wait_for_selector('a.search-pagination-button.enabled-link')\n",
    "        \n",
    "        next_buttons = page.locator('a.search-pagination-button.enabled-link')\n",
    "        if await next_buttons.count() == 0:\n",
    "            print(\"No more pages to navigate.\")\n",
    "            break\n",
    "\n",
    "        # Click on the last \"next\" button (use index -1 for the last element)\n",
    "        \n",
    "\n",
    "        await page.wait_for_selector('a.search-result-title')\n",
    "        links = await page.query_selector_all(\"a.search-result-title\")\n",
    "        print(links)\n",
    "        for link in links:\n",
    "            try:\n",
    "                header = None\n",
    "                await link.click()\n",
    "                await page.wait_for_selector('h2.modal-title span')\n",
    "                header = await page.locator('h2.modal-title span').text_content()\n",
    "                # await page.wait_for_selector('h3[data-exp-question]')\n",
    "                                            \n",
    "                # await page.locator('h3[data-exp-question]').click()\n",
    "                # await page.wait_for_selector('div[data-exp-answer]')\n",
    "                \n",
    "                \n",
    "                text = await page.locator('div[data-exp-answer]').text_content()\n",
    "                close_button = await page.query_selector('button.btn-close[data-bs-dismiss=\"modal\"]')\n",
    "                await close_button.click()\n",
    "                writer.writerow([str(count), header,  text])\n",
    "                count+=1\n",
    "            except Exception as e:\n",
    "                if header:\n",
    "                    logger.error(header)\n",
    "                else:\n",
    "                    print(e)\n",
    "        # Click the next button and wait for the new page to load\n",
    "        await next_buttons.nth(-1).click()\n",
    "        await page.wait_for_load_state('networkidle')\n",
    "            \n"
   ]
  },
  {
   "cell_type": "code",
   "execution_count": 48,
   "metadata": {},
   "outputs": [
    {
     "name": "stdout",
     "output_type": "stream",
     "text": [
      "[<JSHandle preview=JSHandle@node>, <JSHandle preview=JSHandle@node>, <JSHandle preview=JSHandle@node>, <JSHandle preview=JSHandle@node>, <JSHandle preview=JSHandle@node>, <JSHandle preview=JSHandle@node>, <JSHandle preview=JSHandle@node>, <JSHandle preview=JSHandle@node>, <JSHandle preview=JSHandle@node>, <JSHandle preview=JSHandle@node>, <JSHandle preview=JSHandle@node>, <JSHandle preview=JSHandle@node>, <JSHandle preview=JSHandle@node>, <JSHandle preview=JSHandle@node>, <JSHandle preview=JSHandle@node>, <JSHandle preview=JSHandle@node>, <JSHandle preview=JSHandle@node>, <JSHandle preview=JSHandle@node>, <JSHandle preview=JSHandle@node>, <JSHandle preview=JSHandle@node>]\n"
     ]
    }
   ],
   "source": [
    "links = await page.query_selector_all(\"a.search-result-title\")\n",
    "print(links)"
   ]
  },
  {
   "cell_type": "code",
   "execution_count": 48,
   "metadata": {},
   "outputs": [],
   "source": [
    "# await links[0].click(force=True)"
   ]
  },
  {
   "cell_type": "code",
   "execution_count": 26,
   "metadata": {},
   "outputs": [],
   "source": [
    "import csv\n",
    "async def save_to_csv(page, writer):\n",
    "    modal_text = await page.inner_text('.modal-body')\n",
    "    pdf_links = await page.eval_on_selector_all('a[href$=\".pdf\"]', 'elements => elements.map(el => el.href)')\n",
    "\n",
    "    # Optional: Split text into sections if necessary, e.g., for better organization\n",
    "\n",
    "    # Write the extracted data to a CSV file\n",
    "    writer.writerow([modal_text.strip(), list(set(pdf_links))])"
   ]
  },
  {
   "cell_type": "code",
   "execution_count": null,
   "metadata": {},
   "outputs": [],
   "source": []
  },
  {
   "cell_type": "code",
   "execution_count": null,
   "metadata": {},
   "outputs": [
    {
     "ename": "OperationalError",
     "evalue": "unable to open database file",
     "output_type": "error",
     "traceback": [
      "\u001b[1;31m---------------------------------------------------------------------------\u001b[0m",
      "\u001b[1;31mOperationalError\u001b[0m                          Traceback (most recent call last)",
      "Cell \u001b[1;32mIn[3], line 15\u001b[0m\n\u001b[0;32m     12\u001b[0m cookies_db_path \u001b[38;5;241m=\u001b[39m os\u001b[38;5;241m.\u001b[39mpath\u001b[38;5;241m.\u001b[39mjoin(chrome_profile_path, \u001b[38;5;124m\"\u001b[39m\u001b[38;5;124mCookies\u001b[39m\u001b[38;5;124m\"\u001b[39m)\n\u001b[0;32m     14\u001b[0m \u001b[38;5;66;03m# Connect to the SQLite database\u001b[39;00m\n\u001b[1;32m---> 15\u001b[0m conn \u001b[38;5;241m=\u001b[39m \u001b[43msqlite3\u001b[49m\u001b[38;5;241;43m.\u001b[39;49m\u001b[43mconnect\u001b[49m\u001b[43m(\u001b[49m\u001b[43mcookies_db_path\u001b[49m\u001b[43m)\u001b[49m\n\u001b[0;32m     16\u001b[0m cursor \u001b[38;5;241m=\u001b[39m conn\u001b[38;5;241m.\u001b[39mcursor()\n\u001b[0;32m     18\u001b[0m \u001b[38;5;66;03m# Query to fetch cookies\u001b[39;00m\n",
      "\u001b[1;31mOperationalError\u001b[0m: unable to open database file"
     ]
    }
   ],
   "source": [
    "\n",
    "        "
   ]
  },
  {
   "cell_type": "code",
   "execution_count": 5,
   "metadata": {},
   "outputs": [],
   "source": [
    "import json\n",
    "\n",
    "# read HAR file\n",
    "with open(\"wisetechacademy.com.har\", \"r\") as file:\n",
    "    har_data = json.load(file)\n",
    "\n",
    "# extract Cookies information\n",
    "cookies = har_data[\"log\"][\"entries\"][0][\"response\"][\"cookies\"]\n",
    "\n",
    "# print out Cookies\n",
    "for cookie in cookies:\n",
    "    print(cookie[\"name\"], cookie[\"value\"])"
   ]
  },
  {
   "cell_type": "code",
   "execution_count": null,
   "metadata": {},
   "outputs": [],
   "source": []
  }
 ],
 "metadata": {
  "kernelspec": {
   "display_name": ".venv",
   "language": "python",
   "name": "python3"
  },
  "language_info": {
   "codemirror_mode": {
    "name": "ipython",
    "version": 3
   },
   "file_extension": ".py",
   "mimetype": "text/x-python",
   "name": "python",
   "nbconvert_exporter": "python",
   "pygments_lexer": "ipython3",
   "version": "3.12.3"
  }
 },
 "nbformat": 4,
 "nbformat_minor": 2
}
